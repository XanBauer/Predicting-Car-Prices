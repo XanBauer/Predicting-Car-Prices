{
 "cells": [
  {
   "cell_type": "markdown",
   "metadata": {},
   "source": [
    "# Predicting Car Prices\n",
    "\n",
    "Using data from [UCI Machine Learning](https://archive.ics.uci.edu/ml/datasets/automobile), we will build a model to predict car prices. The data was originally focused on assigning insurance ratings of riskiness and the associated losses resulted with that car model. "
   ]
  },
  {
   "cell_type": "code",
   "execution_count": 1,
   "metadata": {
    "collapsed": false
   },
   "outputs": [],
   "source": [
    "# Import necessary libraries\n",
    "import pandas as pd\n",
    "# Make dataframe display human friendly\n",
    "pd.options.display.max_columns = 25\n",
    "\n",
    "from ucimlrepo import fetch_ucirepo \n",
    "import numpy as np\n",
    "from sklearn.neighbors import KNeighborsRegressor\n",
    "from sklearn.metrics import mean_squared_error\n",
    "import matplotlib.pyplot as plt\n",
    "import warnings\n",
    "warnings.filterwarnings('ignore')\n",
    "\n",
    "# Import seaborn for styling options\n",
    "import seaborn as sns\n",
    "from sklearn.model_selection import cross_val_score, KFold"
   ]
  },
  {
   "cell_type": "code",
   "execution_count": 2,
   "metadata": {},
   "outputs": [
    {
     "data": {
      "text/html": [
       "<div>\n",
       "<style scoped>\n",
       "    .dataframe tbody tr th:only-of-type {\n",
       "        vertical-align: middle;\n",
       "    }\n",
       "\n",
       "    .dataframe tbody tr th {\n",
       "        vertical-align: top;\n",
       "    }\n",
       "\n",
       "    .dataframe thead th {\n",
       "        text-align: right;\n",
       "    }\n",
       "</style>\n",
       "<table border=\"1\" class=\"dataframe\">\n",
       "  <thead>\n",
       "    <tr style=\"text-align: right;\">\n",
       "      <th></th>\n",
       "      <th>price</th>\n",
       "      <th>highway mpg</th>\n",
       "      <th>city mpg</th>\n",
       "      <th>peak rpm</th>\n",
       "      <th>horsepower</th>\n",
       "      <th>compression ratio</th>\n",
       "      <th>stroke</th>\n",
       "      <th>bore</th>\n",
       "      <th>fuel system</th>\n",
       "      <th>engine size</th>\n",
       "      <th>num of cylinders</th>\n",
       "      <th>engine type</th>\n",
       "      <th>...</th>\n",
       "      <th>width</th>\n",
       "      <th>length</th>\n",
       "      <th>wheel base</th>\n",
       "      <th>engine location</th>\n",
       "      <th>drive wheels</th>\n",
       "      <th>body style</th>\n",
       "      <th>num of doors</th>\n",
       "      <th>aspiration</th>\n",
       "      <th>fuel type</th>\n",
       "      <th>make</th>\n",
       "      <th>normalized losses</th>\n",
       "      <th>symboling</th>\n",
       "    </tr>\n",
       "  </thead>\n",
       "  <tbody>\n",
       "    <tr>\n",
       "      <th>0</th>\n",
       "      <td>13495.0</td>\n",
       "      <td>27</td>\n",
       "      <td>21</td>\n",
       "      <td>5000.0</td>\n",
       "      <td>111.0</td>\n",
       "      <td>9.0</td>\n",
       "      <td>2.68</td>\n",
       "      <td>3.47</td>\n",
       "      <td>mpfi</td>\n",
       "      <td>130</td>\n",
       "      <td>4</td>\n",
       "      <td>dohc</td>\n",
       "      <td>...</td>\n",
       "      <td>64.1</td>\n",
       "      <td>168.8</td>\n",
       "      <td>88.6</td>\n",
       "      <td>front</td>\n",
       "      <td>rwd</td>\n",
       "      <td>convertible</td>\n",
       "      <td>2.0</td>\n",
       "      <td>std</td>\n",
       "      <td>gas</td>\n",
       "      <td>alfa-romero</td>\n",
       "      <td>NaN</td>\n",
       "      <td>3</td>\n",
       "    </tr>\n",
       "    <tr>\n",
       "      <th>1</th>\n",
       "      <td>16500.0</td>\n",
       "      <td>27</td>\n",
       "      <td>21</td>\n",
       "      <td>5000.0</td>\n",
       "      <td>111.0</td>\n",
       "      <td>9.0</td>\n",
       "      <td>2.68</td>\n",
       "      <td>3.47</td>\n",
       "      <td>mpfi</td>\n",
       "      <td>130</td>\n",
       "      <td>4</td>\n",
       "      <td>dohc</td>\n",
       "      <td>...</td>\n",
       "      <td>64.1</td>\n",
       "      <td>168.8</td>\n",
       "      <td>88.6</td>\n",
       "      <td>front</td>\n",
       "      <td>rwd</td>\n",
       "      <td>convertible</td>\n",
       "      <td>2.0</td>\n",
       "      <td>std</td>\n",
       "      <td>gas</td>\n",
       "      <td>alfa-romero</td>\n",
       "      <td>NaN</td>\n",
       "      <td>3</td>\n",
       "    </tr>\n",
       "    <tr>\n",
       "      <th>2</th>\n",
       "      <td>16500.0</td>\n",
       "      <td>26</td>\n",
       "      <td>19</td>\n",
       "      <td>5000.0</td>\n",
       "      <td>154.0</td>\n",
       "      <td>9.0</td>\n",
       "      <td>3.47</td>\n",
       "      <td>2.68</td>\n",
       "      <td>mpfi</td>\n",
       "      <td>152</td>\n",
       "      <td>6</td>\n",
       "      <td>ohcv</td>\n",
       "      <td>...</td>\n",
       "      <td>65.5</td>\n",
       "      <td>171.2</td>\n",
       "      <td>94.5</td>\n",
       "      <td>front</td>\n",
       "      <td>rwd</td>\n",
       "      <td>hatchback</td>\n",
       "      <td>2.0</td>\n",
       "      <td>std</td>\n",
       "      <td>gas</td>\n",
       "      <td>alfa-romero</td>\n",
       "      <td>NaN</td>\n",
       "      <td>1</td>\n",
       "    </tr>\n",
       "  </tbody>\n",
       "</table>\n",
       "<p>3 rows × 26 columns</p>\n",
       "</div>"
      ],
      "text/plain": [
       "     price  highway mpg  city mpg  peak rpm  horsepower  compression ratio  \\\n",
       "0  13495.0           27        21    5000.0       111.0                9.0   \n",
       "1  16500.0           27        21    5000.0       111.0                9.0   \n",
       "2  16500.0           26        19    5000.0       154.0                9.0   \n",
       "\n",
       "   stroke  bore fuel system  engine size  num of cylinders engine type  ...  \\\n",
       "0    2.68  3.47        mpfi          130                 4        dohc  ...   \n",
       "1    2.68  3.47        mpfi          130                 4        dohc  ...   \n",
       "2    3.47  2.68        mpfi          152                 6        ohcv  ...   \n",
       "\n",
       "   width  length  wheel base  engine location  drive wheels   body style  \\\n",
       "0   64.1   168.8        88.6            front           rwd  convertible   \n",
       "1   64.1   168.8        88.6            front           rwd  convertible   \n",
       "2   65.5   171.2        94.5            front           rwd    hatchback   \n",
       "\n",
       "  num of doors aspiration  fuel type         make normalized losses symboling  \n",
       "0          2.0        std        gas  alfa-romero               NaN         3  \n",
       "1          2.0        std        gas  alfa-romero               NaN         3  \n",
       "2          2.0        std        gas  alfa-romero               NaN         1  \n",
       "\n",
       "[3 rows x 26 columns]"
      ]
     },
     "execution_count": 2,
     "metadata": {},
     "output_type": "execute_result"
    }
   ],
   "source": [
    "# fetch dataset \n",
    "automobiles = fetch_ucirepo(id=10) \n",
    "\n",
    "# data as pandas dataframes\n",
    "X = automobiles.data.features\n",
    "y = automobiles.data.targets\n",
    "\n",
    "# Merge to one dataframe\n",
    "car_data = pd.concat([X,y], axis= 1)\n",
    "\n",
    "# Normalize column names\n",
    "car_data.columns = car_data.columns.str.strip().str.lower().str.replace('-', ' ')\n",
    "\n",
    "car_data.head(3)"
   ]
  },
  {
   "cell_type": "code",
   "execution_count": 3,
   "metadata": {
    "collapsed": false
   },
   "outputs": [
    {
     "name": "stdout",
     "output_type": "stream",
     "text": [
      "<class 'pandas.core.frame.DataFrame'>\n",
      "RangeIndex: 205 entries, 0 to 204\n",
      "Data columns (total 15 columns):\n",
      " #   Column             Non-Null Count  Dtype  \n",
      "---  ------             --------------  -----  \n",
      " 0   normalized losses  164 non-null    float64\n",
      " 1   wheel base         205 non-null    float64\n",
      " 2   length             205 non-null    float64\n",
      " 3   width              205 non-null    float64\n",
      " 4   height             205 non-null    float64\n",
      " 5   curb weight        205 non-null    int64  \n",
      " 6   engine size        205 non-null    int64  \n",
      " 7   bore               201 non-null    float64\n",
      " 8   stroke             201 non-null    float64\n",
      " 9   compression ratio  205 non-null    float64\n",
      " 10  horsepower         203 non-null    float64\n",
      " 11  peak rpm           203 non-null    float64\n",
      " 12  city mpg           205 non-null    int64  \n",
      " 13  highway mpg        205 non-null    int64  \n",
      " 14  price              201 non-null    float64\n",
      "dtypes: float64(11), int64(4)\n",
      "memory usage: 24.2 KB\n"
     ]
    }
   ],
   "source": [
    "# We are interested in only the numeric columns for predicting car prices\n",
    "# Let's slice the dataframe to just these columns\n",
    "numeric_cols = [\"normalized losses\",\"wheel base\",\"length\",\"width\",\n",
    "                \"height\", \"curb weight\", \"engine size\", \"bore\",\n",
    "                \"stroke\", \"compression ratio\", \"horsepower\",\n",
    "                \"peak rpm\",\"city mpg\",  \"highway mpg\", \"price\"]\n",
    "car_data = car_data[numeric_cols]\n",
    "\n",
    "# Quick glance at data frame contents\n",
    "car_data.info()"
   ]
  },
  {
   "cell_type": "code",
   "execution_count": 4,
   "metadata": {
    "collapsed": false
   },
   "outputs": [
    {
     "name": "stdout",
     "output_type": "stream",
     "text": [
      "<class 'pandas.core.frame.DataFrame'>\n",
      "RangeIndex: 205 entries, 0 to 204\n",
      "Data columns (total 15 columns):\n",
      " #   Column             Non-Null Count  Dtype  \n",
      "---  ------             --------------  -----  \n",
      " 0   normalized losses  164 non-null    float64\n",
      " 1   wheel base         205 non-null    float64\n",
      " 2   length             205 non-null    float64\n",
      " 3   width              205 non-null    float64\n",
      " 4   height             205 non-null    float64\n",
      " 5   curb weight        205 non-null    float64\n",
      " 6   engine size        205 non-null    float64\n",
      " 7   bore               201 non-null    float64\n",
      " 8   stroke             201 non-null    float64\n",
      " 9   compression ratio  205 non-null    float64\n",
      " 10  horsepower         203 non-null    float64\n",
      " 11  peak rpm           203 non-null    float64\n",
      " 12  city mpg           205 non-null    float64\n",
      " 13  highway mpg        205 non-null    float64\n",
      " 14  price              201 non-null    float64\n",
      "dtypes: float64(15)\n",
      "memory usage: 24.2 KB\n"
     ]
    }
   ],
   "source": [
    "# Replace missing values with NaN for cleaning ease\n",
    "car_data = car_data.replace(\"?\", np.nan)\n",
    "\n",
    "# Reassigning the numeric columns to float type so they're easier to work with\n",
    "car_data = car_data.astype(float)\n",
    "# Confirm transformation\n",
    "car_data.info()"
   ]
  },
  {
   "cell_type": "code",
   "execution_count": 5,
   "metadata": {
    "collapsed": false
   },
   "outputs": [
    {
     "data": {
      "text/plain": [
       "normalized losses    41\n",
       "wheel base            0\n",
       "length                0\n",
       "width                 0\n",
       "height                0\n",
       "curb weight           0\n",
       "engine size           0\n",
       "bore                  4\n",
       "stroke                4\n",
       "compression ratio     0\n",
       "horsepower            2\n",
       "peak rpm              2\n",
       "city mpg              0\n",
       "highway mpg           0\n",
       "price                 4\n",
       "dtype: int64"
      ]
     },
     "execution_count": 5,
     "metadata": {},
     "output_type": "execute_result"
    }
   ],
   "source": [
    "# Counting missing values\n",
    "car_data.isnull().sum()"
   ]
  },
  {
   "cell_type": "markdown",
   "metadata": {},
   "source": [
    "The normalized losses column has the most missing values out of any field (almost 25% of the entire data set). It would be unwise to drop that many rows. Since the normalized losses column is specific to insurance policies, not the price a manufacturer sets on a car, let's create a copy data frame without this column."
   ]
  },
  {
   "cell_type": "code",
   "execution_count": 6,
   "metadata": {
    "collapsed": false
   },
   "outputs": [
    {
     "data": {
      "text/plain": [
       "wheel base           0\n",
       "length               0\n",
       "width                0\n",
       "height               0\n",
       "curb weight          0\n",
       "engine size          0\n",
       "bore                 4\n",
       "stroke               4\n",
       "compression ratio    0\n",
       "horsepower           2\n",
       "peak rpm             2\n",
       "city mpg             0\n",
       "highway mpg          0\n",
       "price                0\n",
       "dtype: int64"
      ]
     },
     "execution_count": 6,
     "metadata": {},
     "output_type": "execute_result"
    }
   ],
   "source": [
    "# Drop \"normalized losses\" column\n",
    "car_data = car_data.drop(\"normalized losses\", axis=1)\n",
    "\n",
    "# Since price is the field we want to predict, drop rows missing\n",
    "# this value so that we do not unnecessarily alter the model\n",
    "car_data = car_data.dropna(subset=[\"price\"])\n",
    "car_data.isnull().sum()"
   ]
  },
  {
   "cell_type": "markdown",
   "metadata": {},
   "source": [
    "Since only six rows are left missing, roughly 3% of the total rows, we can safely fill these missing values with the mean values from the column without worrying about a large impact on the results of our model. "
   ]
  },
  {
   "cell_type": "code",
   "execution_count": 7,
   "metadata": {
    "collapsed": false
   },
   "outputs": [
    {
     "data": {
      "text/plain": [
       "wheel base           0\n",
       "length               0\n",
       "width                0\n",
       "height               0\n",
       "curb weight          0\n",
       "engine size          0\n",
       "bore                 0\n",
       "stroke               0\n",
       "compression ratio    0\n",
       "horsepower           0\n",
       "peak rpm             0\n",
       "city mpg             0\n",
       "highway mpg          0\n",
       "price                0\n",
       "dtype: int64"
      ]
     },
     "execution_count": 7,
     "metadata": {},
     "output_type": "execute_result"
    }
   ],
   "source": [
    "# Fill missing values with mean \n",
    "car_data = car_data.fillna(car_data.mean())\n",
    "# Confirm no missing values\n",
    "car_data.isnull().sum()"
   ]
  },
  {
   "cell_type": "code",
   "execution_count": 8,
   "metadata": {
    "collapsed": false,
    "scrolled": true
   },
   "outputs": [],
   "source": [
    "# Normalize columns to range of 0 to 1\n",
    "price_col = car_data[\"price\"]\n",
    "normalized_car_data =(car_data - car_data.min())/(car_data.max() - car_data.min())\n",
    "normalized_car_data[\"price\"] = price_col"
   ]
  },
  {
   "cell_type": "markdown",
   "metadata": {},
   "source": [
    "# Training and Testing models\n",
    "\n",
    "The first model to test is a univariate KNN regression, using RMSE as the error metric."
   ]
  },
  {
   "cell_type": "code",
   "execution_count": 9,
   "metadata": {
    "collapsed": false
   },
   "outputs": [],
   "source": [
    "# Creating a KNearestNeighbors function\n",
    "\n",
    "def knn_train_test(train_col, target_col, df):\n",
    "    model = KNeighborsRegressor()\n",
    "    np.random.seed(1)\n",
    "    \n",
    "    # Randomize order of rows in data frame\n",
    "    shuffled_index = np.random.permutation(df.index)\n",
    "    df = df.reindex(shuffled_index)\n",
    "    \n",
    "    # Split; take 70% for training and 30% testing\n",
    "    cutoff = int(len(df)*.7)\n",
    "    train_set = df.iloc[0:cutoff]\n",
    "    test_set = df.iloc[cutoff:]\n",
    "    \n",
    "    # Fit a KNN model on the data\n",
    "    model.fit(train_set[[train_col]], train_set[target_col])\n",
    "    \n",
    "    # Make predictions on the test data\n",
    "    predictions = model.predict(test_set[[train_col]])\n",
    "    \n",
    "    # Calculate and return RMSE\n",
    "    mse = mean_squared_error(test_set[target_col], predictions)\n",
    "    return np.sqrt(mse)\n",
    "\n",
    "# Testing univariate models to find the best training column\n",
    "train_cols = [\"wheel base\", \"length\",\n",
    "              \"width\", \"height\", \"curb weight\", \"engine size\",\n",
    "              \"bore\", \"stroke\", \"compression ratio\", \"horsepower\",\n",
    "              \"peak rpm\",\"city mpg\",  \"highway mpg\"]\n",
    "\n",
    "univariate_rmse_results = {}\n",
    "for col in train_cols:\n",
    "    rmse = knn_train_test(col, \"price\", normalized_car_data)\n",
    "    univariate_rmse_results[col] = int(rmse)"
   ]
  },
  {
   "cell_type": "code",
   "execution_count": 10,
   "metadata": {
    "collapsed": false
   },
   "outputs": [
    {
     "data": {
      "text/plain": [
       "engine size          2907\n",
       "city mpg             4196\n",
       "horsepower           4505\n",
       "curb weight          4533\n",
       "width                4670\n",
       "highway mpg          4698\n",
       "wheel base           4924\n",
       "length               4964\n",
       "compression ratio    5420\n",
       "peak rpm             6923\n",
       "stroke               7200\n",
       "height               7376\n",
       "bore                 7382\n",
       "dtype: int64"
      ]
     },
     "execution_count": 10,
     "metadata": {},
     "output_type": "execute_result"
    }
   ],
   "source": [
    "# Sorting the values for easier analysis\n",
    "univariate_rmse_series = pd.Series(univariate_rmse_results)\n",
    "sorted_univariate_rmses = univariate_rmse_series.sort_values()\n",
    "sorted_univariate_rmses"
   ]
  },
  {
   "cell_type": "markdown",
   "metadata": {},
   "source": [
    "The features resulting in the three lowest RMSEs for a univariate KNeighborsRegression are \"engine size\", \"city mpg\", and \"horsepower\". Next, let's adjust the function to accept tuning of hyperparameter k to see if we can lower the RMSEs."
   ]
  },
  {
   "cell_type": "code",
   "execution_count": 11,
   "metadata": {
    "collapsed": false,
    "scrolled": true
   },
   "outputs": [
    {
     "name": "stdout",
     "output_type": "stream",
     "text": [
      "1    5\n",
      "3    4\n",
      "5    2\n",
      "7    0\n",
      "9    2\n",
      "dtype: int64\n"
     ]
    }
   ],
   "source": [
    "# Modifying the knn function to accept k as a parameter\n",
    "def knn_train_test(train_col, target_col, df, k):\n",
    "    model = KNeighborsRegressor(n_neighbors = k)\n",
    "    np.random.seed(1)\n",
    "    \n",
    "    # Randomize order of rows in data frame\n",
    "    shuffled_index = np.random.permutation(df.index)\n",
    "    df = df.reindex(shuffled_index)\n",
    "    \n",
    "    # Split; take 70% for training and 30% testing\n",
    "    cutoff = int(len(df)*.7)\n",
    "    train_set = df.iloc[0:cutoff]\n",
    "    test_set = df.iloc[cutoff:]\n",
    "    \n",
    "    # Fit a KNN model on the data\n",
    "    model.fit(train_set[[train_col]], train_set[target_col])\n",
    "    \n",
    "    # Make predictions on the test data\n",
    "    predictions = model.predict(test_set[[train_col]])\n",
    "    \n",
    "    # Calculate and return RMSE\n",
    "    mse = mean_squared_error(test_set[target_col], predictions)\n",
    "    return int(np.sqrt(mse))\n",
    "\n",
    "\n",
    "# Inspect column to determine next steps\n",
    "\n",
    "CB_color_cycle = sns.color_palette(palette='colorblind')\n",
    "plt.style.use('seaborn-v0_8-colorblind')\n",
    "\n",
    "# Various K values to test\n",
    "k_vals = [1,3,5,7,9]\n",
    "min_rmse_k_val = {1:0,3:0,5:0,7:0,9:0}\n",
    "#plt.figure(figsize=(13,16))\n",
    "for i, col in enumerate(train_cols):\n",
    "    multivariate_results = {1:0,3:0,5:0,7:0,9:0}\n",
    "    for kval in k_vals:\n",
    "        multivariate_results[kval] = knn_train_test(col, \"price\", normalized_car_data, kval)\n",
    "        sorted_results = pd.Series(multivariate_results).sort_index(inplace=False)\n",
    "    x = list(sorted_results.index)\n",
    "    y = list(sorted_results.iloc[0:6])\n",
    "    #print(col, len(x), len(y))\n",
    "    plt.plot(x,y,label=col)\n",
    "    ymin = min(y)\n",
    "    xpos = x[y.index(ymin)]\n",
    "    #plt.annotate(int(min(y)), xy=(xpos-.5,ymin+100))\n",
    "    min_rmse_k_val[xpos] += 1\n",
    "plt.xticks(k_vals)\n",
    "plt.xlabel(\"k val\")\n",
    "plt.ylabel(\"RMSE\")\n",
    "plt.suptitle(\"Varied k Values on Univariate Models\",fontsize='x-large')\n",
    "plt.grid(False)\n",
    "plt.legend(loc=4,bbox_to_anchor=(1.55,0))\n",
    "sns.despine()\n",
    "\n",
    "# Save figure instead of displaying it inline for memory efficiency\n",
    "plt.savefig(\"images/varied_k_across_univariate.png\", dpi=300, bbox_inches='tight')\n",
    "\n",
    "# Clear the plot to free memory\n",
    "plt.close()\n",
    "\n",
    "print(pd.Series(min_rmse_k_val).sort_index(inplace=False))"
   ]
  },
  {
   "cell_type": "markdown",
   "metadata": {},
   "source": [
    "<div>\n",
    "<img src= \"images/varied_k_across_univariate.png\" width= \"750\" height= \"500\"/>\n",
    "<div/>\n",
    "\n",
    "The analysis above shows that a K value of 5 most often resulted in the lowest RMSE for univariate regressions. That being said, K values of 1, 7, and 9 were all one count shy of achieving the same performance. "
   ]
  },
  {
   "cell_type": "code",
   "execution_count": 12,
   "metadata": {
    "collapsed": false
   },
   "outputs": [
    {
     "data": {
      "text/plain": [
       "{'2 best features:': 2882,\n",
       " '3 best features:': 2910,\n",
       " '4 best features:': 3229,\n",
       " '5 best features:': 3565}"
      ]
     },
     "execution_count": 12,
     "metadata": {},
     "output_type": "execute_result"
    }
   ],
   "source": [
    "# Returning to first variation of model with default k value of 5\n",
    "def knn_train_test(train_cols, target_col, df):\n",
    "    model = KNeighborsRegressor()\n",
    "    np.random.seed(1)\n",
    "    \n",
    "    # Randomize order of rows in data frame\n",
    "    shuffled_index = np.random.permutation(df.index)\n",
    "    df = df.reindex(shuffled_index)\n",
    "    \n",
    "    # Split; take 70% for training and 30% testing\n",
    "    cutoff = int(len(df)*.7)\n",
    "    train_set = df.iloc[0:cutoff]\n",
    "    test_set = df.iloc[cutoff:]\n",
    "    \n",
    "    # Fit a KNN model on the data\n",
    "    model.fit(train_set[train_cols], train_set[target_col])\n",
    "    \n",
    "    # Make predictions on the test data\n",
    "    predictions = model.predict(test_set[train_cols])\n",
    "    \n",
    "    # Calculate and return RMSE\n",
    "    mse = mean_squared_error(test_set[target_col], predictions)\n",
    "    return int(np.sqrt(mse))\n",
    "\n",
    "multivariate_results = {}\n",
    "\n",
    "# Best features are determined by results of our univariate test\n",
    "# Test best 2-5 features\n",
    "for i in range(2,6):\n",
    "    multivariate_results['{} best features:'.format(i)] = knn_train_test(\n",
    "        sorted_univariate_rmses[:i].index,\"price\",normalized_car_data)\n",
    "\n",
    "multivariate_results"
   ]
  },
  {
   "cell_type": "markdown",
   "metadata": {
    "collapsed": false
   },
   "source": [
    "The results of this multivariate test, with a k value of five, show that a multivariate regression with the two best features, results in slightly more variance than the univariate regression with the top feature \"engine size\"."
   ]
  },
  {
   "cell_type": "code",
   "execution_count": 13,
   "metadata": {
    "collapsed": false,
    "scrolled": true
   },
   "outputs": [],
   "source": [
    "# Goal is to try K values 1-25 for the top 3 models\n",
    "def knn_train_test(train_cols, target_col, df, k):\n",
    "    model = KNeighborsRegressor(n_neighbors = k)\n",
    "    np.random.seed(1)\n",
    "    \n",
    "    # Randomize order of rows in data frame\n",
    "    shuffled_index = np.random.permutation(df.index)\n",
    "    df = df.reindex(shuffled_index)\n",
    "    \n",
    "    # Split; take 70% for training and 30% testing\n",
    "    cutoff = int(len(df)*.7)\n",
    "    train_set = df.iloc[0:cutoff]\n",
    "    test_set = df.iloc[cutoff:]\n",
    "    \n",
    "    # Fit a KNN model on the data\n",
    "    model.fit(train_set[train_cols], train_set[target_col])\n",
    "    \n",
    "    # Make predictions on the test data\n",
    "    predictions = model.predict(test_set[train_cols])\n",
    "    \n",
    "    # Calculate and return RMSE\n",
    "    mse = mean_squared_error(test_set[target_col], predictions)\n",
    "    return int(np.sqrt(mse))\n",
    "\n",
    "multivariate_results = {}\n",
    "top_3 = [[\"engine size\",\"city mpg\"],\n",
    "         [\"engine size\",\"city mpg\",\"horsepower\"],\n",
    "         [\"engine size\",\"city mpg\",\"horsepower\",\"curb weight\"]\n",
    "        ]\n",
    "\n",
    "# Various K values to test\n",
    "k_vals = list(range(1,26))\n",
    "for i,model in enumerate(top_3):\n",
    "    multivariate_results = {}\n",
    "    for kval in k_vals:\n",
    "        multivariate_results[kval] = knn_train_test(model, \"price\", normalized_car_data, kval)\n",
    "    x = list(multivariate_results.keys())\n",
    "    y = list(multivariate_results.values())\n",
    "    plt.plot(x,y,label=model,color=CB_color_cycle[i])\n",
    "plt.xticks([1,5,10,15,20,25])\n",
    "plt.xlabel(\"k val\")\n",
    "plt.ylabel(\"RMSE\")\n",
    "plt.legend(loc='lower center')\n",
    "plt.suptitle(\"Varied K Values across Multivariate KNN Models\",fontsize='x-large')\n",
    "plt.grid(False)\n",
    "sns.despine()\n",
    "\n",
    "# Save figure instead of displaying it inline for memory efficiency\n",
    "plt.savefig(\"images/varied_k_across_multivariate.png\", dpi=300, bbox_inches='tight')\n",
    "\n",
    "# Clear the plot to free memory\n",
    "plt.close()"
   ]
  },
  {
   "cell_type": "markdown",
   "metadata": {},
   "source": [
    "<div>\n",
    "<img src= \"images/varied_k_across_multivariate.png\" width= \"650\" height= \"500\"/>\n",
    "<div/>\n",
    "\n",
    "Of the models tested, the test resulting in the lowest RMSE was with the top 4 features and a k value of 1. The optimal k value decreased as we increased the number of features. This is likely due to the model having more similar comparisons available and a smaller k value results in more accurate predictions. \n",
    "\n",
    "The model can be further refined by implementing cross validation to reduce bias on a subset of training data."
   ]
  },
  {
   "cell_type": "code",
   "execution_count": 14,
   "metadata": {
    "collapsed": false,
    "scrolled": true
   },
   "outputs": [],
   "source": [
    "# Modify function to return the model class\n",
    "def knn_train_test(train_cols, target_col, df, k):\n",
    "    model = KNeighborsRegressor(n_neighbors = k)\n",
    "    np.random.seed(1)\n",
    "    \n",
    "    # Randomize order of rows in data frame\n",
    "    shuffled_index = np.random.permutation(df.index)\n",
    "    df = df.reindex(shuffled_index)\n",
    "    \n",
    "    # Split; take 70% for training and 30% testing\n",
    "    cutoff = int(len(df)*.7)\n",
    "    train_set = df.iloc[0:cutoff]\n",
    "    test_set = df.iloc[cutoff:]\n",
    "    \n",
    "    # Fit a KNN model on the data\n",
    "    model.fit(train_set[train_cols], train_set[target_col])\n",
    "    \n",
    "    return model\n",
    "\n",
    "# Create figure and axes for subplots\n",
    "fig, axes = plt.subplots(3, 3, figsize=(16, 10), layout='constrained')\n",
    "axes = axes.flatten()\n",
    "\n",
    "# Run different cross validations\n",
    "for fold in range(2, 11):\n",
    "    multivariate_results = {}\n",
    "    min_y_val = 0\n",
    "    ax = axes[fold-2]  # Adjust index since fold starts at 2\n",
    "    \n",
    "    for i, model in enumerate(top_3):\n",
    "        multivariate_results[str(model)] = {}\n",
    "        for k_val in range(1, 16):\n",
    "            mses = cross_val_score(knn_train_test(model, \"price\", normalized_car_data, k=k_val),\n",
    "                               normalized_car_data[model], normalized_car_data[\"price\"],\n",
    "                               scoring=\"neg_mean_squared_error\", cv=KFold(fold, shuffle=True, random_state=1))\n",
    "            rmses = np.sqrt(np.absolute(mses))\n",
    "            avg_rmse = round(np.mean(rmses))\n",
    "            multivariate_results[str(model)][k_val] = avg_rmse\n",
    "            \n",
    "        x = list(multivariate_results[str(model)].keys())\n",
    "        y = list(multivariate_results[str(model)].values())\n",
    "        ax.plot(x, y, color=CB_color_cycle[i])\n",
    "        \n",
    "        if min_y_val == 0 or min(y) < min_y_val:\n",
    "            min_y_val = min(y)\n",
    "            min_model = i\n",
    "            min_k = next(k for k,v in multivariate_results[str(model)].items() if v == min_y_val)\n",
    "\n",
    "    ax.set_xticks([5, 10, 15])\n",
    "    ax.set_title(f\"Folds={fold}\")\n",
    "    ax.grid(False)\n",
    "    ax.annotate(f\"k={min_k},RMSE={int(min_y_val)}\", xy=(5, min_y_val+100), color=CB_color_cycle[i])\n",
    "\n",
    "fig.suptitle(\"Finding the k value with lowest RMSE\", fontsize='x-large', y=1.02)\n",
    "fig.legend(top_3, loc=(.7, 0.1), title=\"Features\")\n",
    "fig.delaxes(axes[-1])  # Remove the last (empty) subplot\n",
    "sns.despine()\n",
    "\n",
    "# Save figure instead of displaying it inline for memory efficiency\n",
    "plt.savefig(\"images/finding_lowest_k_across_multivariate.png\", dpi=300, bbox_inches='tight')\n",
    "\n",
    "# Clear the plot to free memory\n",
    "plt.close()"
   ]
  },
  {
   "cell_type": "markdown",
   "metadata": {},
   "source": [
    "<div>\n",
    "<img src= \"images/finding_lowest_k_across_multivariate.png\" width= \"1000\" height= \"1000\"/>\n",
    "<div/>\n",
    "\n",
    "# Conclusion\n",
    "\n",
    "After adding KFold validation to our model selection process, we find that the model resulting in the lowest average RMSE uses the top 4 feature columns, 9 folds, and a k value of 1. Given the availability of input data, this is the best model to use for predicting car prices from 1985."
   ]
  }
 ],
 "metadata": {
  "kernelspec": {
   "display_name": "Python (car_prices_venv)",
   "language": "python",
   "name": "car_prices_venv"
  },
  "language_info": {
   "codemirror_mode": {
    "name": "ipython",
    "version": 3
   },
   "file_extension": ".py",
   "mimetype": "text/x-python",
   "name": "python",
   "nbconvert_exporter": "python",
   "pygments_lexer": "ipython3",
   "version": "3.13.0"
  }
 },
 "nbformat": 4,
 "nbformat_minor": 2
}
